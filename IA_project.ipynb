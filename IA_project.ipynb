{
 "cells": [
  {
   "cell_type": "markdown",
   "metadata": {},
   "source": [
    "# Assignment nº2\n",
    "### Implementation and Analysis of Decision Tree Induction for Supervised Machine Learning\n",
    "#### Work assembled by Alejandro Gonçalves, Francisca Mihalache and Pedro Fernandes"
   ]
  },
  {
   "cell_type": "markdown",
   "metadata": {},
   "source": [
    "### Table of contents <a name=\"contents\"></a>\n",
    "\n",
    "1. [Introduction](#introduction)\n",
    "2. [Datasets](#datasets)\n",
    "   - 2.1. [Restaurant](#restaurant1)\n",
    "   - 2.2. [Weather](#weather1)\n",
    "   - 2.3. [Iris](#iris1)\n",
    "   - 2.4. [Connect4](#connect41)\n",
    "3. [ID3](#id3)\n",
    "   - 3.1. [Entropy](#entropy)\n",
    "   - 3.2. [Information Gain](#information_gain)\n",
    "   - 3.3. [Example](#example1)\n",
    "4. [ID3 Implementation](#id3-implementation)\n",
    "4.1. [Restaurant](#restaurant2)\n",
    "5. [Results/Predictions??](#results)\n",
    "6. [Conclusions](#conclusions)"
   ]
  },
  {
   "cell_type": "markdown",
   "metadata": {},
   "source": [
    "## Introduction <a name=\"introduction\"></a>\n",
    "The goal is to implement the ID3 algorithm to learn decision trees from data, ensuring the program can both build the tree and classify new instances across different datasets, without using automatic libraries. The focus is on mastering the theoretical concepts and practically applying them to solve classification tasks effectively."
   ]
  },
  {
   "cell_type": "markdown",
   "metadata": {},
   "source": [
    "### Imports"
   ]
  },
  {
   "cell_type": "code",
   "execution_count": 926,
   "metadata": {},
   "outputs": [],
   "source": [
    "import pandas as pd\n",
    "import matplotlib.pyplot as plt\n",
    "import seaborn as sb\n",
    "import math\n",
    "from collections import Counter"
   ]
  },
  {
   "cell_type": "markdown",
   "metadata": {},
   "source": [
    "# Datasets <a name=\"datasets\"></a>\n",
    "[[go back to the top]](#contents)\n",
    "\n",
    "In this section, we will dive into the details of our datasets, exploring the nature of the data and the predictive outcomes they are associated with.\n",
    "\n",
    "**Note**: for those with ID's, that column is dropped, since it has no predictive value."
   ]
  },
  {
   "cell_type": "markdown",
   "metadata": {},
   "source": [
    "### Restaurant <a name=\"restaurant\"></a>\n",
    "[[go back to the topic]](#datasets)\n",
    "\n",
    "This csv contains some examples of decision making. Given some information, the target is to decide whether the client waits or not.\n",
    "Each line, each instance contains 12 attributes, split among these categories.\n",
    "\n",
    "1. **Identification and Basic Information**:\n",
    "   - ID: Personal identifier for each restaurant entry.\n",
    "   - Type: Classification of the type of cuisine offered by the restaurant.\n",
    "\n",
    "2. **Dining Options within the Restaurant**:\n",
    "   - Alt: Availability of alternative dining options.\n",
    "   - Bar: Presence of a bar within the restaurant premises.\n",
    "\n",
    "3. **Temporal and Climate Conditions**:\n",
    "   - Fri: Indication of whether it is Friday or not.\n",
    "   - Rain: Weather condition, specifically rainy weather.\n",
    "\n",
    "4. **Customer Attributes**:\n",
    "   - Hun: Customer's hunger level.\n",
    "   - Pat: Patron density, indicating how crowded the restaurant is.\n",
    "\n",
    "5. **Service and Pricing**:\n",
    "   - Price: Price range of the restaurant.\n",
    "   - Res: Reservation availability for customers.\n",
    "\n",
    "6. **Wait Time**:\n",
    "   - Est: Estimated waiting time for a table.\n",
    "  \n",
    "7. **Decision Making**:\n",
    "   - Class: Target variable indicating whether a customer decides to wait for a table ('Yes') or not ('No').\n"
   ]
  },
  {
   "cell_type": "markdown",
   "metadata": {},
   "source": [
    "### Data Cleanup\n",
    "\n",
    "For aesthetic purposes, we left the original tree's values as they where, however, if needed, the comments map the values to integers."
   ]
  },
  {
   "cell_type": "code",
   "execution_count": 927,
   "metadata": {},
   "outputs": [
    {
     "data": {
      "text/html": [
       "<div>\n",
       "<style scoped>\n",
       "    .dataframe tbody tr th:only-of-type {\n",
       "        vertical-align: middle;\n",
       "    }\n",
       "\n",
       "    .dataframe tbody tr th {\n",
       "        vertical-align: top;\n",
       "    }\n",
       "\n",
       "    .dataframe thead th {\n",
       "        text-align: right;\n",
       "    }\n",
       "</style>\n",
       "<table border=\"1\" class=\"dataframe\">\n",
       "  <thead>\n",
       "    <tr style=\"text-align: right;\">\n",
       "      <th></th>\n",
       "      <th>ID</th>\n",
       "      <th>Alt</th>\n",
       "      <th>Bar</th>\n",
       "      <th>Fri</th>\n",
       "      <th>Hun</th>\n",
       "      <th>Pat</th>\n",
       "      <th>Price</th>\n",
       "      <th>Rain</th>\n",
       "      <th>Res</th>\n",
       "      <th>Type</th>\n",
       "      <th>Est</th>\n",
       "      <th>Class</th>\n",
       "    </tr>\n",
       "  </thead>\n",
       "  <tbody>\n",
       "    <tr>\n",
       "      <th>0</th>\n",
       "      <td>X1</td>\n",
       "      <td>Yes</td>\n",
       "      <td>No</td>\n",
       "      <td>No</td>\n",
       "      <td>Yes</td>\n",
       "      <td>Some</td>\n",
       "      <td>$$$</td>\n",
       "      <td>No</td>\n",
       "      <td>Yes</td>\n",
       "      <td>French</td>\n",
       "      <td>0-10</td>\n",
       "      <td>Yes</td>\n",
       "    </tr>\n",
       "    <tr>\n",
       "      <th>1</th>\n",
       "      <td>X2</td>\n",
       "      <td>Yes</td>\n",
       "      <td>No</td>\n",
       "      <td>No</td>\n",
       "      <td>Yes</td>\n",
       "      <td>Full</td>\n",
       "      <td>$</td>\n",
       "      <td>No</td>\n",
       "      <td>No</td>\n",
       "      <td>Thai</td>\n",
       "      <td>30-60</td>\n",
       "      <td>No</td>\n",
       "    </tr>\n",
       "    <tr>\n",
       "      <th>2</th>\n",
       "      <td>X3</td>\n",
       "      <td>No</td>\n",
       "      <td>Yes</td>\n",
       "      <td>No</td>\n",
       "      <td>No</td>\n",
       "      <td>Some</td>\n",
       "      <td>$</td>\n",
       "      <td>No</td>\n",
       "      <td>No</td>\n",
       "      <td>Burger</td>\n",
       "      <td>0-10</td>\n",
       "      <td>Yes</td>\n",
       "    </tr>\n",
       "    <tr>\n",
       "      <th>3</th>\n",
       "      <td>X4</td>\n",
       "      <td>Yes</td>\n",
       "      <td>No</td>\n",
       "      <td>Yes</td>\n",
       "      <td>Yes</td>\n",
       "      <td>Full</td>\n",
       "      <td>$</td>\n",
       "      <td>No</td>\n",
       "      <td>No</td>\n",
       "      <td>Thai</td>\n",
       "      <td>10-30</td>\n",
       "      <td>Yes</td>\n",
       "    </tr>\n",
       "    <tr>\n",
       "      <th>4</th>\n",
       "      <td>X5</td>\n",
       "      <td>Yes</td>\n",
       "      <td>No</td>\n",
       "      <td>Yes</td>\n",
       "      <td>No</td>\n",
       "      <td>Full</td>\n",
       "      <td>$$$</td>\n",
       "      <td>No</td>\n",
       "      <td>Yes</td>\n",
       "      <td>French</td>\n",
       "      <td>&gt;60</td>\n",
       "      <td>No</td>\n",
       "    </tr>\n",
       "  </tbody>\n",
       "</table>\n",
       "</div>"
      ],
      "text/plain": [
       "   ID  Alt  Bar  Fri  Hun   Pat Price Rain  Res    Type    Est Class\n",
       "0  X1  Yes   No   No  Yes  Some   $$$   No  Yes  French   0-10   Yes\n",
       "1  X2  Yes   No   No  Yes  Full     $   No   No    Thai  30-60    No\n",
       "2  X3   No  Yes   No   No  Some     $   No   No  Burger   0-10   Yes\n",
       "3  X4  Yes   No  Yes  Yes  Full     $   No   No    Thai  10-30   Yes\n",
       "4  X5  Yes   No  Yes   No  Full   $$$   No  Yes  French    >60    No"
      ]
     },
     "execution_count": 927,
     "metadata": {},
     "output_type": "execute_result"
    }
   ],
   "source": [
    "df1 = pd.read_csv('restaurant.csv')\n",
    "df1.head()"
   ]
  },
  {
   "cell_type": "markdown",
   "metadata": {},
   "source": [
    "#### Missing Values\n",
    "Checking if there's any missing values."
   ]
  },
  {
   "cell_type": "code",
   "execution_count": 928,
   "metadata": {},
   "outputs": [
    {
     "name": "stdout",
     "output_type": "stream",
     "text": [
      "ID       0\n",
      "Alt      0\n",
      "Bar      0\n",
      "Fri      0\n",
      "Hun      0\n",
      "Pat      0\n",
      "Price    0\n",
      "Rain     0\n",
      "Res      0\n",
      "Type     0\n",
      "Est      0\n",
      "Class    0\n",
      "dtype: int64\n"
     ]
    }
   ],
   "source": [
    "print(df1.isnull().sum())"
   ]
  },
  {
   "cell_type": "markdown",
   "metadata": {},
   "source": [
    "#### Mapping Booleans to Integers\n",
    "\n",
    "By replacing String values with small integers, it's easier for the program to process boolean values, and even the ones that have more than 2 options, for example the attribute **Price**.\n",
    "\n",
    "After the last evaluation, we need to handle the empty (None) values in the Pat attribute. (None != 'None').\n",
    "\n",
    "Again, if there is need to do so, just uncommenting what's below is enough."
   ]
  },
  {
   "cell_type": "code",
   "execution_count": 929,
   "metadata": {},
   "outputs": [],
   "source": [
    "'''\n",
    "df1['Alt'] = df1['Alt'].replace({'No': 0, 'Yes': 1})\n",
    "df1['Bar'] = df1['Bar'].replace({'No': 0, 'Yes': 1})\n",
    "df1['Fri'] = df1['Fri'].replace({'No': 0, 'Yes': 1})\n",
    "df1['Hun'] = df1['Hun'].replace({'No': 0, 'Yes': 1})\n",
    "df1['Rain'] = df1['Rain'].replace({'No': 0, 'Yes': 1})\n",
    "df1['Res'] = df1['Res'].replace({'No': 0, 'Yes': 1})\n",
    "df1['Class'] = df1['Class'].replace({'No': 0, 'Yes': 1})\n",
    "df1['Type'] = df1['Type'].replace({'French':0, 'Thai':1, 'Burger':2, 'Italian':3})\n",
    "\n",
    "'''\n",
    "df1['Est'] = df1['Est'].replace({'0-10': 0, '10-30': 1, '30-60': 2, '>60': 3})\n",
    "df1['Price'] = df1['Price'].replace({'$':0, '$$':1,'$$$':2})\n",
    "\n",
    "# trivial python implementation to solve the labels with empty values\n",
    "def map_pat_to_int(value):\n",
    "    mapping = {'None': 'None', 'Some': 'Some', 'Full': 'Full'}\n",
    "    return mapping.get(value, -1)  # return -1 for empty values\n",
    "\n",
    "df1['Pat'] = df1['Pat'].apply(map_pat_to_int)\n",
    "df1 = df1.drop('ID', axis=1)\n",
    "#df1.head()"
   ]
  },
  {
   "cell_type": "markdown",
   "metadata": {},
   "source": [
    "### Weather <a name=\"weather\"></a>\n",
    "[[go back to the topic]](#datasets)\n",
    "\n",
    "The 'weather' dataset holds a range of meteorological conditions and their impact on the decision to engage in an outdoor activity (specifically playing a sport).\n",
    "\n",
    "1. **ID** - Unique instance identification\n",
    "  \n",
    "2. **Weather Conditions**\n",
    "   - Weather: sunny, overcast, rainy\n",
    "   - Temperature: temperature (F) value\n",
    "   - Humidity: percentage, ranging from 0-100\n",
    "   - Windy: presence or absence \n",
    "\n",
    "3. **Decision** - Play or not"
   ]
  },
  {
   "cell_type": "markdown",
   "metadata": {},
   "source": [
    "### Data Cleanup"
   ]
  },
  {
   "cell_type": "code",
   "execution_count": 930,
   "metadata": {
    "scrolled": true
   },
   "outputs": [
    {
     "data": {
      "text/html": [
       "<div>\n",
       "<style scoped>\n",
       "    .dataframe tbody tr th:only-of-type {\n",
       "        vertical-align: middle;\n",
       "    }\n",
       "\n",
       "    .dataframe tbody tr th {\n",
       "        vertical-align: top;\n",
       "    }\n",
       "\n",
       "    .dataframe thead th {\n",
       "        text-align: right;\n",
       "    }\n",
       "</style>\n",
       "<table border=\"1\" class=\"dataframe\">\n",
       "  <thead>\n",
       "    <tr style=\"text-align: right;\">\n",
       "      <th></th>\n",
       "      <th>ID</th>\n",
       "      <th>Weather</th>\n",
       "      <th>Temp</th>\n",
       "      <th>Humidity</th>\n",
       "      <th>Windy</th>\n",
       "      <th>Play</th>\n",
       "    </tr>\n",
       "  </thead>\n",
       "  <tbody>\n",
       "    <tr>\n",
       "      <th>0</th>\n",
       "      <td>1</td>\n",
       "      <td>sunny</td>\n",
       "      <td>85</td>\n",
       "      <td>85</td>\n",
       "      <td>False</td>\n",
       "      <td>no</td>\n",
       "    </tr>\n",
       "    <tr>\n",
       "      <th>1</th>\n",
       "      <td>2</td>\n",
       "      <td>sunny</td>\n",
       "      <td>80</td>\n",
       "      <td>90</td>\n",
       "      <td>True</td>\n",
       "      <td>no</td>\n",
       "    </tr>\n",
       "    <tr>\n",
       "      <th>2</th>\n",
       "      <td>3</td>\n",
       "      <td>overcast</td>\n",
       "      <td>83</td>\n",
       "      <td>86</td>\n",
       "      <td>False</td>\n",
       "      <td>yes</td>\n",
       "    </tr>\n",
       "    <tr>\n",
       "      <th>3</th>\n",
       "      <td>4</td>\n",
       "      <td>rainy</td>\n",
       "      <td>70</td>\n",
       "      <td>96</td>\n",
       "      <td>False</td>\n",
       "      <td>yes</td>\n",
       "    </tr>\n",
       "    <tr>\n",
       "      <th>4</th>\n",
       "      <td>5</td>\n",
       "      <td>rainy</td>\n",
       "      <td>68</td>\n",
       "      <td>80</td>\n",
       "      <td>False</td>\n",
       "      <td>yes</td>\n",
       "    </tr>\n",
       "  </tbody>\n",
       "</table>\n",
       "</div>"
      ],
      "text/plain": [
       "   ID   Weather  Temp  Humidity  Windy Play\n",
       "0   1     sunny    85        85  False   no\n",
       "1   2     sunny    80        90   True   no\n",
       "2   3  overcast    83        86  False  yes\n",
       "3   4     rainy    70        96  False  yes\n",
       "4   5     rainy    68        80  False  yes"
      ]
     },
     "execution_count": 930,
     "metadata": {},
     "output_type": "execute_result"
    }
   ],
   "source": [
    "df2 = pd.read_csv('weather.csv')\n",
    "df2.head()"
   ]
  },
  {
   "cell_type": "markdown",
   "metadata": {},
   "source": [
    "#### Missing values\n",
    "Checking if there's any missing values, if so, those need to be handled accordingly."
   ]
  },
  {
   "cell_type": "code",
   "execution_count": 931,
   "metadata": {},
   "outputs": [
    {
     "name": "stdout",
     "output_type": "stream",
     "text": [
      "ID          0\n",
      "Weather     0\n",
      "Temp        0\n",
      "Humidity    0\n",
      "Windy       0\n",
      "Play        0\n",
      "dtype: int64\n"
     ]
    }
   ],
   "source": [
    "print(df2.isnull().sum())"
   ]
  },
  {
   "cell_type": "markdown",
   "metadata": {},
   "source": [
    "#### Mapping Booleans to Integers"
   ]
  },
  {
   "cell_type": "code",
   "execution_count": 932,
   "metadata": {
    "scrolled": true
   },
   "outputs": [
    {
     "data": {
      "text/html": [
       "<div>\n",
       "<style scoped>\n",
       "    .dataframe tbody tr th:only-of-type {\n",
       "        vertical-align: middle;\n",
       "    }\n",
       "\n",
       "    .dataframe tbody tr th {\n",
       "        vertical-align: top;\n",
       "    }\n",
       "\n",
       "    .dataframe thead th {\n",
       "        text-align: right;\n",
       "    }\n",
       "</style>\n",
       "<table border=\"1\" class=\"dataframe\">\n",
       "  <thead>\n",
       "    <tr style=\"text-align: right;\">\n",
       "      <th></th>\n",
       "      <th>Weather</th>\n",
       "      <th>Temp</th>\n",
       "      <th>Humidity</th>\n",
       "      <th>Windy</th>\n",
       "      <th>Play</th>\n",
       "    </tr>\n",
       "  </thead>\n",
       "  <tbody>\n",
       "    <tr>\n",
       "      <th>0</th>\n",
       "      <td>0</td>\n",
       "      <td>85</td>\n",
       "      <td>85</td>\n",
       "      <td>0</td>\n",
       "      <td>0</td>\n",
       "    </tr>\n",
       "    <tr>\n",
       "      <th>1</th>\n",
       "      <td>0</td>\n",
       "      <td>80</td>\n",
       "      <td>90</td>\n",
       "      <td>1</td>\n",
       "      <td>0</td>\n",
       "    </tr>\n",
       "    <tr>\n",
       "      <th>2</th>\n",
       "      <td>1</td>\n",
       "      <td>83</td>\n",
       "      <td>86</td>\n",
       "      <td>0</td>\n",
       "      <td>1</td>\n",
       "    </tr>\n",
       "    <tr>\n",
       "      <th>3</th>\n",
       "      <td>2</td>\n",
       "      <td>70</td>\n",
       "      <td>96</td>\n",
       "      <td>0</td>\n",
       "      <td>1</td>\n",
       "    </tr>\n",
       "    <tr>\n",
       "      <th>4</th>\n",
       "      <td>2</td>\n",
       "      <td>68</td>\n",
       "      <td>80</td>\n",
       "      <td>0</td>\n",
       "      <td>1</td>\n",
       "    </tr>\n",
       "  </tbody>\n",
       "</table>\n",
       "</div>"
      ],
      "text/plain": [
       "   Weather  Temp  Humidity  Windy  Play\n",
       "0        0    85        85      0     0\n",
       "1        0    80        90      1     0\n",
       "2        1    83        86      0     1\n",
       "3        2    70        96      0     1\n",
       "4        2    68        80      0     1"
      ]
     },
     "execution_count": 932,
     "metadata": {},
     "output_type": "execute_result"
    }
   ],
   "source": [
    "df2['Windy'] = df2['Windy'].replace({False: 0, True: 1})\n",
    "df2['Weather'] = df2['Weather'].replace({'sunny':0, 'overcast':1,'rainy':2})\n",
    "df2['Play'] = df2['Play'].replace({'no':0, 'yes':1})\n",
    "df2 = df2.drop('ID', axis=1)\n",
    "df2.head()"
   ]
  },
  {
   "cell_type": "markdown",
   "metadata": {},
   "source": [
    "### Iris <a name=\"iris\"></a>\n",
    "[[go back to the topic]](#datasets)\n",
    "\n",
    "The 'iris' dataset, which is renowned for its introdutory role in the ML world, records the morphological measurements of *Iris* flowers. The attributes recorded are the following: \n",
    "\n",
    " 1. **ID** - Unique instance identification\n",
    "  \n",
    "2. **Features**\n",
    "   - Sepal Length\n",
    "   - Petal Length\n",
    "   - Sepal Width\n",
    "   - Petal Width\n",
    "\n",
    "3. **Decision** - Decide which species (Iris-setosa, Iris-versicolor, or Iris-virginica) the instance belongs to. "
   ]
  },
  {
   "cell_type": "code",
   "execution_count": 933,
   "metadata": {},
   "outputs": [
    {
     "data": {
      "text/html": [
       "<div>\n",
       "<style scoped>\n",
       "    .dataframe tbody tr th:only-of-type {\n",
       "        vertical-align: middle;\n",
       "    }\n",
       "\n",
       "    .dataframe tbody tr th {\n",
       "        vertical-align: top;\n",
       "    }\n",
       "\n",
       "    .dataframe thead th {\n",
       "        text-align: right;\n",
       "    }\n",
       "</style>\n",
       "<table border=\"1\" class=\"dataframe\">\n",
       "  <thead>\n",
       "    <tr style=\"text-align: right;\">\n",
       "      <th></th>\n",
       "      <th>ID</th>\n",
       "      <th>sepallength</th>\n",
       "      <th>sepalwidth</th>\n",
       "      <th>petallength</th>\n",
       "      <th>petalwidth</th>\n",
       "      <th>class</th>\n",
       "    </tr>\n",
       "  </thead>\n",
       "  <tbody>\n",
       "    <tr>\n",
       "      <th>0</th>\n",
       "      <td>1</td>\n",
       "      <td>5.1</td>\n",
       "      <td>3.5</td>\n",
       "      <td>1.4</td>\n",
       "      <td>0.2</td>\n",
       "      <td>Iris-setosa</td>\n",
       "    </tr>\n",
       "    <tr>\n",
       "      <th>1</th>\n",
       "      <td>2</td>\n",
       "      <td>4.9</td>\n",
       "      <td>3.0</td>\n",
       "      <td>1.4</td>\n",
       "      <td>0.2</td>\n",
       "      <td>Iris-setosa</td>\n",
       "    </tr>\n",
       "    <tr>\n",
       "      <th>2</th>\n",
       "      <td>3</td>\n",
       "      <td>4.7</td>\n",
       "      <td>3.2</td>\n",
       "      <td>1.3</td>\n",
       "      <td>0.2</td>\n",
       "      <td>Iris-setosa</td>\n",
       "    </tr>\n",
       "    <tr>\n",
       "      <th>3</th>\n",
       "      <td>4</td>\n",
       "      <td>4.6</td>\n",
       "      <td>3.1</td>\n",
       "      <td>1.5</td>\n",
       "      <td>0.2</td>\n",
       "      <td>Iris-setosa</td>\n",
       "    </tr>\n",
       "    <tr>\n",
       "      <th>4</th>\n",
       "      <td>5</td>\n",
       "      <td>5.0</td>\n",
       "      <td>3.6</td>\n",
       "      <td>1.4</td>\n",
       "      <td>0.2</td>\n",
       "      <td>Iris-setosa</td>\n",
       "    </tr>\n",
       "  </tbody>\n",
       "</table>\n",
       "</div>"
      ],
      "text/plain": [
       "   ID  sepallength  sepalwidth  petallength  petalwidth        class\n",
       "0   1          5.1         3.5          1.4         0.2  Iris-setosa\n",
       "1   2          4.9         3.0          1.4         0.2  Iris-setosa\n",
       "2   3          4.7         3.2          1.3         0.2  Iris-setosa\n",
       "3   4          4.6         3.1          1.5         0.2  Iris-setosa\n",
       "4   5          5.0         3.6          1.4         0.2  Iris-setosa"
      ]
     },
     "execution_count": 933,
     "metadata": {},
     "output_type": "execute_result"
    }
   ],
   "source": [
    "df3 = pd.read_csv('iris.csv')\n",
    "df3.head()"
   ]
  },
  {
   "cell_type": "markdown",
   "metadata": {},
   "source": [
    "#### Missing Values\n",
    "Checking if there's any missing values, we conclude that there are none."
   ]
  },
  {
   "cell_type": "code",
   "execution_count": 934,
   "metadata": {},
   "outputs": [
    {
     "name": "stdout",
     "output_type": "stream",
     "text": [
      "ID             0\n",
      "sepallength    0\n",
      "sepalwidth     0\n",
      "petallength    0\n",
      "petalwidth     0\n",
      "class          0\n",
      "dtype: int64\n"
     ]
    }
   ],
   "source": [
    "print(df3.isnull().sum())"
   ]
  },
  {
   "cell_type": "code",
   "execution_count": 935,
   "metadata": {},
   "outputs": [
    {
     "data": {
      "text/html": [
       "<div>\n",
       "<style scoped>\n",
       "    .dataframe tbody tr th:only-of-type {\n",
       "        vertical-align: middle;\n",
       "    }\n",
       "\n",
       "    .dataframe tbody tr th {\n",
       "        vertical-align: top;\n",
       "    }\n",
       "\n",
       "    .dataframe thead th {\n",
       "        text-align: right;\n",
       "    }\n",
       "</style>\n",
       "<table border=\"1\" class=\"dataframe\">\n",
       "  <thead>\n",
       "    <tr style=\"text-align: right;\">\n",
       "      <th></th>\n",
       "      <th>sepallength</th>\n",
       "      <th>sepalwidth</th>\n",
       "      <th>petallength</th>\n",
       "      <th>petalwidth</th>\n",
       "      <th>class</th>\n",
       "    </tr>\n",
       "  </thead>\n",
       "  <tbody>\n",
       "    <tr>\n",
       "      <th>0</th>\n",
       "      <td>5.1</td>\n",
       "      <td>3.5</td>\n",
       "      <td>1.4</td>\n",
       "      <td>0.2</td>\n",
       "      <td>Iris-setosa</td>\n",
       "    </tr>\n",
       "    <tr>\n",
       "      <th>1</th>\n",
       "      <td>4.9</td>\n",
       "      <td>3.0</td>\n",
       "      <td>1.4</td>\n",
       "      <td>0.2</td>\n",
       "      <td>Iris-setosa</td>\n",
       "    </tr>\n",
       "    <tr>\n",
       "      <th>2</th>\n",
       "      <td>4.7</td>\n",
       "      <td>3.2</td>\n",
       "      <td>1.3</td>\n",
       "      <td>0.2</td>\n",
       "      <td>Iris-setosa</td>\n",
       "    </tr>\n",
       "    <tr>\n",
       "      <th>3</th>\n",
       "      <td>4.6</td>\n",
       "      <td>3.1</td>\n",
       "      <td>1.5</td>\n",
       "      <td>0.2</td>\n",
       "      <td>Iris-setosa</td>\n",
       "    </tr>\n",
       "    <tr>\n",
       "      <th>4</th>\n",
       "      <td>5.0</td>\n",
       "      <td>3.6</td>\n",
       "      <td>1.4</td>\n",
       "      <td>0.2</td>\n",
       "      <td>Iris-setosa</td>\n",
       "    </tr>\n",
       "  </tbody>\n",
       "</table>\n",
       "</div>"
      ],
      "text/plain": [
       "   sepallength  sepalwidth  petallength  petalwidth        class\n",
       "0          5.1         3.5          1.4         0.2  Iris-setosa\n",
       "1          4.9         3.0          1.4         0.2  Iris-setosa\n",
       "2          4.7         3.2          1.3         0.2  Iris-setosa\n",
       "3          4.6         3.1          1.5         0.2  Iris-setosa\n",
       "4          5.0         3.6          1.4         0.2  Iris-setosa"
      ]
     },
     "execution_count": 935,
     "metadata": {},
     "output_type": "execute_result"
    }
   ],
   "source": [
    "df3 = df3.drop('ID', axis=1)\n",
    "df3.head()"
   ]
  },
  {
   "cell_type": "markdown",
   "metadata": {},
   "source": [
    "#### Creating a **scatterplot matrix**\n",
    "Although not used, it's useful to check this datasets data properties.\n"
   ]
  },
  {
   "cell_type": "code",
   "execution_count": 936,
   "metadata": {},
   "outputs": [
    {
     "data": {
      "text/plain": [
       "<seaborn.axisgrid.PairGrid at 0x713b4b7b41f0>"
      ]
     },
     "execution_count": 936,
     "metadata": {},
     "output_type": "execute_result"
    }
   ],
   "source": [
    "sb.pairplot(df3.dropna(), hue='class')"
   ]
  },
  {
   "cell_type": "markdown",
   "metadata": {},
   "source": [
    "**Note for the Iris dataset**: after careful search andevaluation, we concluded that the dataset is already clean, without outliers. For that reason, no further issues considering the csv will take place."
   ]
  },
  {
   "cell_type": "markdown",
   "metadata": {},
   "source": [
    "### Connect4 <a name=\"connect4\"></a>\n",
    "[[go back to the topic]](#datasets)\n",
    "\n",
    "The 'connect4' csv consists of multiple instances representing endgame states of the Connect Four game. The objective is to use these configurations to predict the outcome of the game - whether it ends in a win for the first player, a win for the second player, or a draw. \n",
    "\n",
    "This dataset is different fundamentaly, it does not contain attributes, but only the final state and the winner."
   ]
  },
  {
   "cell_type": "code",
   "execution_count": 937,
   "metadata": {},
   "outputs": [
    {
     "data": {
      "text/html": [
       "<div>\n",
       "<style scoped>\n",
       "    .dataframe tbody tr th:only-of-type {\n",
       "        vertical-align: middle;\n",
       "    }\n",
       "\n",
       "    .dataframe tbody tr th {\n",
       "        vertical-align: top;\n",
       "    }\n",
       "\n",
       "    .dataframe thead th {\n",
       "        text-align: right;\n",
       "    }\n",
       "</style>\n",
       "<table border=\"1\" class=\"dataframe\">\n",
       "  <thead>\n",
       "    <tr style=\"text-align: right;\">\n",
       "      <th></th>\n",
       "      <th>b</th>\n",
       "      <th>b.1</th>\n",
       "      <th>b.2</th>\n",
       "      <th>b.3</th>\n",
       "      <th>b.4</th>\n",
       "      <th>b.5</th>\n",
       "      <th>b.6</th>\n",
       "      <th>b.7</th>\n",
       "      <th>b.8</th>\n",
       "      <th>b.9</th>\n",
       "      <th>...</th>\n",
       "      <th>b.25</th>\n",
       "      <th>b.26</th>\n",
       "      <th>b.27</th>\n",
       "      <th>b.28</th>\n",
       "      <th>b.29</th>\n",
       "      <th>b.30</th>\n",
       "      <th>b.31</th>\n",
       "      <th>b.32</th>\n",
       "      <th>b.33</th>\n",
       "      <th>win</th>\n",
       "    </tr>\n",
       "  </thead>\n",
       "  <tbody>\n",
       "    <tr>\n",
       "      <th>0</th>\n",
       "      <td>b</td>\n",
       "      <td>b</td>\n",
       "      <td>b</td>\n",
       "      <td>b</td>\n",
       "      <td>b</td>\n",
       "      <td>b</td>\n",
       "      <td>b</td>\n",
       "      <td>b</td>\n",
       "      <td>b</td>\n",
       "      <td>b</td>\n",
       "      <td>...</td>\n",
       "      <td>b</td>\n",
       "      <td>b</td>\n",
       "      <td>b</td>\n",
       "      <td>b</td>\n",
       "      <td>b</td>\n",
       "      <td>b</td>\n",
       "      <td>b</td>\n",
       "      <td>b</td>\n",
       "      <td>b</td>\n",
       "      <td>win</td>\n",
       "    </tr>\n",
       "    <tr>\n",
       "      <th>1</th>\n",
       "      <td>b</td>\n",
       "      <td>b</td>\n",
       "      <td>b</td>\n",
       "      <td>b</td>\n",
       "      <td>b</td>\n",
       "      <td>b</td>\n",
       "      <td>o</td>\n",
       "      <td>b</td>\n",
       "      <td>b</td>\n",
       "      <td>b</td>\n",
       "      <td>...</td>\n",
       "      <td>b</td>\n",
       "      <td>b</td>\n",
       "      <td>b</td>\n",
       "      <td>b</td>\n",
       "      <td>b</td>\n",
       "      <td>b</td>\n",
       "      <td>b</td>\n",
       "      <td>b</td>\n",
       "      <td>b</td>\n",
       "      <td>win</td>\n",
       "    </tr>\n",
       "    <tr>\n",
       "      <th>2</th>\n",
       "      <td>b</td>\n",
       "      <td>b</td>\n",
       "      <td>b</td>\n",
       "      <td>b</td>\n",
       "      <td>b</td>\n",
       "      <td>b</td>\n",
       "      <td>b</td>\n",
       "      <td>b</td>\n",
       "      <td>b</td>\n",
       "      <td>b</td>\n",
       "      <td>...</td>\n",
       "      <td>b</td>\n",
       "      <td>b</td>\n",
       "      <td>b</td>\n",
       "      <td>b</td>\n",
       "      <td>b</td>\n",
       "      <td>b</td>\n",
       "      <td>b</td>\n",
       "      <td>b</td>\n",
       "      <td>b</td>\n",
       "      <td>win</td>\n",
       "    </tr>\n",
       "    <tr>\n",
       "      <th>3</th>\n",
       "      <td>o</td>\n",
       "      <td>b</td>\n",
       "      <td>b</td>\n",
       "      <td>b</td>\n",
       "      <td>b</td>\n",
       "      <td>b</td>\n",
       "      <td>b</td>\n",
       "      <td>b</td>\n",
       "      <td>b</td>\n",
       "      <td>b</td>\n",
       "      <td>...</td>\n",
       "      <td>b</td>\n",
       "      <td>b</td>\n",
       "      <td>b</td>\n",
       "      <td>b</td>\n",
       "      <td>b</td>\n",
       "      <td>b</td>\n",
       "      <td>b</td>\n",
       "      <td>b</td>\n",
       "      <td>b</td>\n",
       "      <td>win</td>\n",
       "    </tr>\n",
       "    <tr>\n",
       "      <th>4</th>\n",
       "      <td>b</td>\n",
       "      <td>b</td>\n",
       "      <td>b</td>\n",
       "      <td>b</td>\n",
       "      <td>b</td>\n",
       "      <td>b</td>\n",
       "      <td>b</td>\n",
       "      <td>b</td>\n",
       "      <td>b</td>\n",
       "      <td>b</td>\n",
       "      <td>...</td>\n",
       "      <td>b</td>\n",
       "      <td>b</td>\n",
       "      <td>b</td>\n",
       "      <td>o</td>\n",
       "      <td>b</td>\n",
       "      <td>b</td>\n",
       "      <td>b</td>\n",
       "      <td>b</td>\n",
       "      <td>b</td>\n",
       "      <td>win</td>\n",
       "    </tr>\n",
       "  </tbody>\n",
       "</table>\n",
       "<p>5 rows × 43 columns</p>\n",
       "</div>"
      ],
      "text/plain": [
       "   b b.1 b.2 b.3 b.4 b.5 b.6 b.7 b.8 b.9  ... b.25 b.26 b.27 b.28 b.29 b.30  \\\n",
       "0  b   b   b   b   b   b   b   b   b   b  ...    b    b    b    b    b    b   \n",
       "1  b   b   b   b   b   b   o   b   b   b  ...    b    b    b    b    b    b   \n",
       "2  b   b   b   b   b   b   b   b   b   b  ...    b    b    b    b    b    b   \n",
       "3  o   b   b   b   b   b   b   b   b   b  ...    b    b    b    b    b    b   \n",
       "4  b   b   b   b   b   b   b   b   b   b  ...    b    b    b    o    b    b   \n",
       "\n",
       "  b.31 b.32 b.33  win  \n",
       "0    b    b    b  win  \n",
       "1    b    b    b  win  \n",
       "2    b    b    b  win  \n",
       "3    b    b    b  win  \n",
       "4    b    b    b  win  \n",
       "\n",
       "[5 rows x 43 columns]"
      ]
     },
     "execution_count": 937,
     "metadata": {},
     "output_type": "execute_result"
    }
   ],
   "source": [
    "df4 = pd.read_csv('connect4.csv')\n",
    "df4.head()"
   ]
  },
  {
   "cell_type": "markdown",
   "metadata": {},
   "source": [
    "#### Missing Values\n",
    "No missing values, so no need to access that problem."
   ]
  },
  {
   "cell_type": "code",
   "execution_count": 938,
   "metadata": {},
   "outputs": [
    {
     "name": "stdout",
     "output_type": "stream",
     "text": [
      "b       0\n",
      "b.1     0\n",
      "b.2     0\n",
      "b.3     0\n",
      "b.4     0\n",
      "b.5     0\n",
      "b.6     0\n",
      "b.7     0\n",
      "b.8     0\n",
      "b.9     0\n",
      "b.10    0\n",
      "b.11    0\n",
      "x       0\n",
      "o       0\n",
      "b.12    0\n",
      "b.13    0\n",
      "b.14    0\n",
      "b.15    0\n",
      "x.1     0\n",
      "o.1     0\n",
      "x.2     0\n",
      "o.2     0\n",
      "x.3     0\n",
      "o.3     0\n",
      "b.16    0\n",
      "b.17    0\n",
      "b.18    0\n",
      "b.19    0\n",
      "b.20    0\n",
      "b.21    0\n",
      "b.22    0\n",
      "b.23    0\n",
      "b.24    0\n",
      "b.25    0\n",
      "b.26    0\n",
      "b.27    0\n",
      "b.28    0\n",
      "b.29    0\n",
      "b.30    0\n",
      "b.31    0\n",
      "b.32    0\n",
      "b.33    0\n",
      "win     0\n",
      "dtype: int64\n"
     ]
    }
   ],
   "source": [
    "print(df4.isnull().sum())"
   ]
  },
  {
   "cell_type": "markdown",
   "metadata": {},
   "source": [
    "# ID3 <a name=\"id3\"></a>\n",
    "[[go back to the top]](#contents)\n",
    "\n",
    "The ID3 decision tree algorithm strategically employs Information Gain to identify optimal points for splitting the data during the tree-building process. This selection is crucial as it influences the algorithm's ability to accurately classify data.\n",
    "\n",
    " To quantify IG, he uses the concept of **Entropy**. By calculating Entropy, we can evaluate the effectiveness of each potential split in **reducing uncertainty**, guiding the decision tree to more effective and informed splits that **enhance classification performance**."
   ]
  },
  {
   "cell_type": "code",
   "execution_count": 939,
   "metadata": {},
   "outputs": [],
   "source": [
    "class ID3:\n",
    "    def __init__(self, df):\n",
    "        self.df = df\n",
    "        # self.tree = self.build_tree(df) \n",
    "\n",
    "        self.atts = df.columns.tolist()[1:-1] \n",
    "        self.target = df.columns.tolist()[-1] "
   ]
  },
  {
   "cell_type": "markdown",
   "metadata": {},
   "source": [
    "### Initial Entropy Calculation:\n",
    "- **Definition of Entropy:** Measures the amount of uncertainty in the dataset.\n",
    "- **Entropy Calculation Formula:**\n",
    "\n",
    "  $$ \n",
    "  \\text{Entropy}(S) = -\\sum_{i=1}^n p_i \\log_2(p_i) \n",
    "  $$\n",
    "  - **n:** Total number of classes in the target column.\n",
    "  - **p_i:** Probability of class i, or the ratio of \"number of rows with class i in the target column\" to the \"total number of rows\" in the dataset.\n",
    "  - **log_2(p_i):** Logarithm base 2 of p_i, used to calculate the entropy contribution of each class.\n",
    "\n",
    "### Information Gain Assessment:\n",
    "- **Information Gain Calculation:** Determine the gain in information by computing the change in entropy before and after partitioning the dataset based on an attribute.\n",
    "- **Information Gain Formula:**\n",
    "\n",
    "\n",
    "#### Information Gain Assessment:\n",
    "- **Information Gain Calculation:** Determine the gain in information by computing the change in entropy before and after partitioning the dataset based on an attribute.\n",
    "  - **Information Gain Formula:**\n",
    "    $$\n",
    "    IG(S, A) = \\text{Entropy}(S)- \\sum \\left( \\frac{|S_v|}{|S|} \\cdot \\text{Entropy}(S_v) \\right)\n",
    "  $$\n",
    "    \n",
    "  In this formula:\n",
    "  - **S**  is the entire dataset.\n",
    "  - **A** is the attribute used for partitioning.\n",
    "  - **S_v**  is the size of the subset of S where the attribute A has value v.\n",
    "  - **|S|**  is the total size of the dataset.\n",
    "  - **Entropy(S)** is the entropy of the entire dataset S.\n",
    "  - **Entropy(S_v)** is the entropy of subset S_v. \n",
    "\n",
    "#### Attribute Selection:\n",
    "- **Optimal Attribute Choice:** Select the attribute with the maximal information gain for splitting. This is done by calculating the information gain for each attribute and comparing these values to identify the attribute that most effectively reduces uncertainty.\n",
    "\n",
    "#### Iterative Process:\n",
    "- **Repetition Until Completion:** Continuing the process iteratively, applying the steps of entropy calculation, information gain assessment, and attribute selection recursively on each subset of the dataset created by a decision node.\n",
    "\n",
    "- The process ends when all data at a node have the same class, no remaining attributes exist for further partitioning, or another stopping criterion is met."
   ]
  },
  {
   "cell_type": "markdown",
   "metadata": {},
   "source": [
    "### Entropy <a name=\"entropy\"></a>\n",
    "[[go back to the topic]](#id3)\n",
    "\n"
   ]
  },
  {
   "cell_type": "markdown",
   "metadata": {},
   "source": [
    "#### Calculating the Entropy\n",
    "\n",
    "In order to do so, here's an implementation in python which calculates the entropy given the different values parsed as a function. "
   ]
  },
  {
   "cell_type": "code",
   "execution_count": 940,
   "metadata": {},
   "outputs": [
    {
     "data": {
      "text/plain": [
       "'\\nclass_counts = [25, 25]  \\nentropy = entropy(class_counts)\\nprint(f\"Entropy of the distribution is: {entropy}\")\\n'"
      ]
     },
     "execution_count": 940,
     "metadata": {},
     "output_type": "execute_result"
    }
   ],
   "source": [
    "import math\n",
    "\n",
    "class ID3(ID3):\n",
    "    def _entropy(self, class_counts):\n",
    "        total = sum(class_counts) \n",
    "        if total == 0:\n",
    "            return 0 \n",
    "\n",
    "        entropy = 0\n",
    "        for count in class_counts:\n",
    "            if count > 0:\n",
    "                probability = count / total\n",
    "                entropy -= probability * math.log2(probability)\n",
    "\n",
    "        return entropy\n",
    "\n",
    "'''\n",
    "class_counts = [25, 25]  \n",
    "entropy = entropy(class_counts)\n",
    "print(f\"Entropy of the distribution is: {entropy}\")\n",
    "'''"
   ]
  },
  {
   "cell_type": "markdown",
   "metadata": {},
   "source": [
    "Now we need to parse all the class counts as a list, and compare the different entropies, to choose the one that properly divides the dataset the most.\n"
   ]
  },
  {
   "cell_type": "markdown",
   "metadata": {},
   "source": [
    "### Calculating the Information Gain\n",
    "\n",
    "Now, using the previous function, we need to calculate the information gain for splitting the tree using the attribute_name, and the target_name.\n",
    "\n",
    "Next, there is an implementation in *python* which calculates the IG given the previously stated arguments.\n",
    "\n",
    "The function starts by calculating the weighted entropy, doing the summatory described above, and then doing the formula below."
   ]
  },
  {
   "cell_type": "code",
   "execution_count": 941,
   "metadata": {},
   "outputs": [],
   "source": [
    "class ID3(ID3):\n",
    "    def _calculate_entropy_of_split(self, df, target_attribute):\n",
    "        \"\"\"\n",
    "        Calculate entropy based on the distribution of values in the target attribute.\n",
    "        \"\"\"\n",
    "        counts = [len(df[df[target_attribute] == value]) for value in df[target_attribute].unique()]\n",
    "        return self._entropy(counts)\n",
    "\n",
    "    def _information_gain(self, df_subset, attribute_name):\n",
    "        \"\"\"\n",
    "        Calculate the information gain for a specific attribute within a given subset of the DataFrame.\n",
    "        \"\"\"\n",
    "        total_entropy = self._calculate_entropy_of_split(df_subset, self.target)\n",
    "        weighted_entropy = 0\n",
    "\n",
    "        for value in df_subset[attribute_name].unique():\n",
    "            subset = df_subset[df_subset[attribute_name] == value]\n",
    "            subset_entropy = self._calculate_entropy_of_split(subset, self.target)\n",
    "            weighted_entropy += (len(subset) / len(df_subset)) * subset_entropy\n",
    "\n",
    "        return total_entropy - weighted_entropy"
   ]
  },
  {
   "cell_type": "markdown",
   "metadata": {},
   "source": [
    "### Plurality Values\n",
    "\n",
    "According to page 660 of the manual, **if** there is need to break ties, we pick the **most common output value** among a set of examples.\n",
    "\n",
    "Panda module has a built-in function to order by the most common, so we just need to adapt it. Although not now, it might be used for later."
   ]
  },
  {
   "cell_type": "code",
   "execution_count": 942,
   "metadata": {},
   "outputs": [],
   "source": [
    "class ID3(ID3):\n",
    "    def _plurality_value(self, target_attribute):\n",
    "        \"\"\"Return the most common value in the target attribute.\"\"\"\n",
    "        return Counter(self.df[target_attribute]).most_common(1)[0][0]"
   ]
  },
  {
   "cell_type": "markdown",
   "metadata": {},
   "source": [
    "### Example <a name=\"eg1\"></a>\n",
    "\n",
    "Let's test the new function for the Restaurant csv, splitting on the **Alt** attribute.\n"
   ]
  },
  {
   "cell_type": "code",
   "execution_count": 943,
   "metadata": {},
   "outputs": [
    {
     "name": "stdout",
     "output_type": "stream",
     "text": [
      "[6, 6]\n"
     ]
    }
   ],
   "source": [
    "column_name = 'Alt'\n",
    "\n",
    "unique_values = df1[column_name].unique()\n",
    "\n",
    "class_counts = []\n",
    "for arr in unique_values:\n",
    "    x = df1[df1[column_name] == arr].shape[0]\n",
    "    class_counts.append(x)\n",
    "\n",
    "print(class_counts)"
   ]
  },
  {
   "cell_type": "markdown",
   "metadata": {},
   "source": [
    "Now we are good to go.\n",
    "The entropy should be 1, as it splits the dataset evenly, but we will test the function now.\n",
    "\n",
    "Then, we need to calculate the IG."
   ]
  },
  {
   "cell_type": "code",
   "execution_count": 944,
   "metadata": {},
   "outputs": [
    {
     "name": "stdout",
     "output_type": "stream",
     "text": [
      "Entropy for [6, 6] : 1.0\n"
     ]
    }
   ],
   "source": [
    "x = ID3(df1)\n",
    "entr = x._entropy(class_counts)\n",
    "print(f\"Entropy for {class_counts} : {entr}\")"
   ]
  },
  {
   "cell_type": "code",
   "execution_count": 945,
   "metadata": {},
   "outputs": [
    {
     "name": "stdout",
     "output_type": "stream",
     "text": [
      "\n",
      "Attribute with the maximum information gain: Pat (IG: 0.541)\n"
     ]
    }
   ],
   "source": [
    "x = ID3(df1)\n",
    "\n",
    "information_gains = {}\n",
    "\n",
    "for column in x.atts:\n",
    "    gain = x._information_gain(x.df, column)\n",
    "    information_gains[column] = gain\n",
    "\n",
    "# Choose the attribute with the highest information gain\n",
    "max_gain_attr = max(information_gains, key=information_gains.get)\n",
    "\n",
    "print(f\"\\nAttribute with the maximum information gain: {max_gain_attr} (IG: {information_gains[max_gain_attr]:.3f})\")"
   ]
  },
  {
   "cell_type": "markdown",
   "metadata": {},
   "source": [
    "The IG associated with each attribute is represented in the table below, in which we can assess that in fact, Pat has the highest IG score.\n",
    "\n",
    "| **Attribute**  | Alt | Bar | Fri | Hun | Pat | Price | Rain | Res | Type | Est |\n",
    "|------------|-----|-----|-----|-----|-----|-------|------|-----|------|-----|\n",
    "| **Information Gain**  | 0.000 | 0.000 | 0.021 | 0.196 | 0.541 | 0.196 | 0.000 | 0.021 | 0.000 | 0.208 |\n",
    "\n",
    "Now we have the base working for the ID3 algorithm, and can calculate the IG of the attributes correctly in each instance."
   ]
  },
  {
   "cell_type": "markdown",
   "metadata": {},
   "source": [
    "### Choose the best attribute\n",
    "\n",
    "In order to do so, we just need to use the previously defined methods, to pick the index of the attribute with the highest IG. \n",
    "\n",
    "The ID3 method *choose_best_attribute* creates a dictionary that links all the (remaining) attributes to their respective IG, and returns the key (attribute name) of the one with the max IG."
   ]
  },
  {
   "cell_type": "code",
   "execution_count": 946,
   "metadata": {},
   "outputs": [
    {
     "name": "stdout",
     "output_type": "stream",
     "text": [
      "Best Attribute for Splitting: Pat\n"
     ]
    }
   ],
   "source": [
    "class ID3(ID3):\n",
    "    def choose_best_attribute(self, df_subset):        \n",
    "        remaining_attributes = [col for col in df_subset.columns if col != self.target] # debug step\n",
    "\n",
    "        information_gains = {} # dict att -> IG(att)\n",
    "        for attr in remaining_attributes:\n",
    "            information_gains[attr] = self._information_gain(df_subset, attr)\n",
    "\n",
    "        return max(information_gains, key=information_gains.get)\n",
    "\n",
    "a = ID3(df1)\n",
    "subset = a.df  # In the first iteration, use the entire dataset\n",
    "best_attribute = a.choose_best_attribute(subset)\n",
    "\n",
    "print(\"Best Attribute for Splitting:\", best_attribute)"
   ]
  },
  {
   "cell_type": "markdown",
   "metadata": {},
   "source": [
    "### Restaurant Implementation\n",
    "\n",
    "This is the simplest one. No adaptations are required, since the **values are discrete**, and not continuous values, and the **target class is binary**."
   ]
  },
  {
   "cell_type": "code",
   "execution_count": 963,
   "metadata": {},
   "outputs": [],
   "source": [
    "\n",
    "class ID3(ID3):\n",
    "    def _build_tree(self, data):\n",
    "        # debug statements from chatGPT\n",
    "        from collections import Counter\n",
    "\n",
    "        labels = data[data.columns[-1]].tolist()\n",
    "        target_attribute = data.columns[-1]\n",
    "        class_counts = Counter(labels)\n",
    "\n",
    "        # Base cases\n",
    "        if len(set(labels)) == 1:\n",
    "            return [labels[0], class_counts[labels[0]]]  # returned 2 thing to help the debug below\n",
    "        if len(data.columns) == 1:\n",
    "            return [class_counts.most_common(1)[0][0], len(labels)] \n",
    "\n",
    "        # Choose the best attribute to split on\n",
    "        best_attribute = self.choose_best_attribute(data)\n",
    "        node = {best_attribute: {}}\n",
    "\n",
    "        complete_values = self.df[best_attribute].unique()\n",
    "        subset_values = data[best_attribute].unique()\n",
    "        # print(f\"Building tree on {best_attribute}, values: {complete_values}\")\n",
    "        \n",
    "        # missing_values = set(complete_values) - set(subset_values)\n",
    "        # print(missing_values)\n",
    "\n",
    "        for value in complete_values:\n",
    "            subset = data[data[best_attribute] == value]\n",
    "            if subset.empty:\n",
    "                # Assign the majority class if this value is missing in the subset\n",
    "                majority_class = class_counts.most_common(1)[0][0]\n",
    "                # print(f\"Value '{value}' missing. Assigning majority class '{majority_class}'\")\n",
    "                node[best_attribute][value] = [majority_class, 0]\n",
    "            else:\n",
    "                # Recursively build the tree for non-empty subsets\n",
    "                remaining_data = subset.drop(columns=[best_attribute])\n",
    "                node[best_attribute][value] = self._build_tree(remaining_data)\n",
    "\n",
    "        return node\n",
    "\n"
   ]
  },
  {
   "cell_type": "code",
   "execution_count": 964,
   "metadata": {},
   "outputs": [
    {
     "name": "stdout",
     "output_type": "stream",
     "text": [
      "{'Pat': {'Some': ['Yes', 4], 'Full': {'Hun': {'Yes': {'Type': {'French': ['No', 0], 'Thai': {'Fri': {'No': ['No', 1], 'Yes': ['Yes', 1]}}, 'Burger': ['Yes', 1], 'Italian': ['No', 1]}}, 'No': ['No', 2]}}, 'None': ['No', 2]}}\n"
     ]
    }
   ],
   "source": [
    "# test the function usage \n",
    "abc = ID3(df1)\n",
    "decision_tree_structure = abc._build_tree(abc.df)\n",
    "\n",
    "print(decision_tree_structure)"
   ]
  },
  {
   "cell_type": "markdown",
   "metadata": {},
   "source": [
    "We can however define a recursive function with the corresponding indents, and make it look more like a tree. The format, although not perfect, is enough"
   ]
  },
  {
   "cell_type": "code",
   "execution_count": 977,
   "metadata": {},
   "outputs": [],
   "source": [
    "class ID3(ID3):\n",
    "    def print_tree(self, tree_structure):\n",
    "        \"\"\"\n",
    "        Public function to start printing the decision tree structure from the root.\n",
    "        :param tree_structure: The nested dictionary representing the decision tree.\n",
    "        \"\"\"\n",
    "        self._recursive_print_tree(tree_structure, \"\")\n",
    "\n",
    "    def _recursive_print_tree(self, tree, prefix=\"\", indent=\"    \"):\n",
    "        # courtesy of GPT\n",
    "        if isinstance(tree, dict):\n",
    "            for attribute, branches in tree.items():\n",
    "                print(prefix + f\"{attribute}:\")\n",
    "                last_value = len(branches) - 1\n",
    "\n",
    "                for index, (value, subtree) in enumerate(branches.items()):\n",
    "                    is_last = index == last_value\n",
    "                    value_prefix = prefix + indent\n",
    "                    print(value_prefix + f\"{value}:\")\n",
    "                    self._recursive_print_tree(subtree, value_prefix + indent, indent)\n",
    "\n",
    "        else:\n",
    "            # Leaf node handling\n",
    "            leaf_value = tree[0] if isinstance(tree, list) else tree\n",
    "            print(prefix + str(leaf_value))\n"
   ]
  },
  {
   "cell_type": "code",
   "execution_count": 978,
   "metadata": {},
   "outputs": [
    {
     "name": "stdout",
     "output_type": "stream",
     "text": [
      "Pat:\n",
      "    Some:\n",
      "        Yes\n",
      "    Full:\n",
      "        Hun:\n",
      "            Yes:\n",
      "                Type:\n",
      "                    French:\n",
      "                        No\n",
      "                    Thai:\n",
      "                        Fri:\n",
      "                            No:\n",
      "                                No\n",
      "                            Yes:\n",
      "                                Yes\n",
      "                    Burger:\n",
      "                        Yes\n",
      "                    Italian:\n",
      "                        No\n",
      "            No:\n",
      "                No\n",
      "    None:\n",
      "        No\n"
     ]
    }
   ],
   "source": [
    "teste = ID3(df1)\n",
    "decision_tree_structure = abc._build_tree(abc.df)\n",
    "teste.print_tree(decision_tree_structure)"
   ]
  },
  {
   "cell_type": "markdown",
   "metadata": {},
   "source": [
    "#### Classify examples for Restaurant\n",
    "\n",
    "We can create a new function, that uses tree with brackets (nested dictionary), and traverses the tree iteratively in order to classify a new example, given in a dictionary."
   ]
  },
  {
   "cell_type": "code",
   "execution_count": null,
   "metadata": {},
   "outputs": [],
   "source": [
    "class DecisionTree(DecisionTree):\n",
    "    def classify(self, instance, node=None): # Classify a new instance using the decision tree.\n",
    "        if node is None: \n",
    "            node = self.tree\n",
    "        if not isinstance(node, dict):\n",
    "            return node  # Leaf node with classification label\n",
    "        attribute = next(iter(node))\n",
    "        value = instance.get(attribute)\n",
    "        next_branch = node.get(attribute).get(value, 'Unknown')\n",
    "        if isinstance(next_branch, dict):\n",
    "            return self.classify(instance, next_branch) # Iterate recursively to the next branch\n",
    "        else:\n",
    "            return next_branch"
   ]
  },
  {
   "cell_type": "markdown",
   "metadata": {},
   "source": [
    "Below we can define a new instance, and given the generated tree, will take the proper decision."
   ]
  },
  {
   "cell_type": "code",
   "execution_count": null,
   "metadata": {},
   "outputs": [],
   "source": [
    "new_instance = {\n",
    "    'Alt': 'Yes',\n",
    "    'Bar': 'No',\n",
    "    'Fri': 'Yes',\n",
    "    'Hun': 'Yes',\n",
    "    'Pat': 'Full',\n",
    "    'Price': '$$$',\n",
    "    'Rain': 'No',\n",
    "    'Res': 'Yes',\n",
    "    'Type': 'Italian',\n",
    "    'Est': '10-30'\n",
    "}"
   ]
  },
  {
   "cell_type": "markdown",
   "metadata": {},
   "source": [
    "### Weather Implementation\n",
    "\n",
    "Now, instead of only having discrete values, they are now continuous, in the attributes **Temperature** and **Humidity**.\n"
   ]
  },
  {
   "cell_type": "markdown",
   "metadata": {},
   "source": []
  },
  {
   "cell_type": "code",
   "execution_count": null,
   "metadata": {},
   "outputs": [],
   "source": []
  },
  {
   "cell_type": "code",
   "execution_count": null,
   "metadata": {},
   "outputs": [],
   "source": []
  }
 ],
 "metadata": {
  "kernelspec": {
   "display_name": "Python 3 (ipykernel)",
   "language": "python",
   "name": "python3"
  },
  "language_info": {
   "codemirror_mode": {
    "name": "ipython",
    "version": 3
   },
   "file_extension": ".py",
   "mimetype": "text/x-python",
   "name": "python",
   "nbconvert_exporter": "python",
   "pygments_lexer": "ipython3",
   "version": "3.9.13"
  }
 },
 "nbformat": 4,
 "nbformat_minor": 2
}
